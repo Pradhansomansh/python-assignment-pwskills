{
 "cells": [
  {
   "cell_type": "markdown",
   "metadata": {},
   "source": [
    "Question No. 1:\n",
    "\n",
    "What is Estimation Statistics? Explain point estimate and interval estimate.\n",
    "\n",
    "Answer:\n",
    "\n",
    "Estimation statistics is a branch of statistics that involves using data from a sample to make inferences about the population. The goal of estimation is to provide information about population parameters, such as the mean or proportion, based on a sample of data.\n",
    "\n",
    "There are two main types of estimates: point estimates and interval estimates.\n",
    "\n",
    "   1. Point Estimate: A point estimate is a single value that is used to estimate a population parameter. It is obtained by using a sample statistic, such as the sample mean or sample proportion, to estimate the corresponding population parameter.\n",
    "\n",
    "   2. Interval Estimate: An interval estimate, also called a confidence interval, is a range of values that is likely to contain the true population parameter with a certain level of confidence. It is obtained by using a sample statistic, such as the sample mean or sample proportion, to calculate an interval of values that is likely to contain the true population parameter."
   ]
  },
  {
   "cell_type": "markdown",
   "metadata": {},
   "source": [
    "Question No. 2:\n",
    "\n",
    "Write a Python function to estimate the population mean using a sample mean and standard deviation.\n",
    "\n",
    "Answer:"
   ]
  },
  {
   "cell_type": "code",
   "execution_count": 1,
   "metadata": {},
   "outputs": [],
   "source": [
    "import math\n",
    "\n",
    "def population_mean(sample_mean, sample_std, sample_size):\n",
    "    std_error = sample_std / math.sqrt(sample_size)\n",
    "    z_value = 1.96 # assume a 95% confidence level and use the corresponding z-value\n",
    "    margin_of_error = z_value * std_error \n",
    "    lower_bound = sample_mean - margin_of_error \n",
    "    upper_bound = sample_mean + margin_of_error \n",
    "    return ((lower_bound + upper_bound) / 2)"
   ]
  },
  {
   "cell_type": "code",
   "execution_count": 2,
   "metadata": {},
   "outputs": [
    {
     "name": "stdout",
     "output_type": "stream",
     "text": [
      "Population mean: 2.0\n"
     ]
    }
   ],
   "source": [
    "result = population_mean(2,5,20000)\n",
    "\n",
    "print(f\"Population mean: {result}\")"
   ]
  },
  {
   "cell_type": "markdown",
   "metadata": {},
   "source": [
    "Question No. 3:\n",
    "\n",
    "What is Hypothesis testing? Why is it used? State the importance of Hypothesis testing.\n",
    "\n",
    "Answer:\n",
    "\n",
    "Hypothesis testing is a statistical method used to make decisions or draw conclusions about a population based on a sample of data. It involves comparing a hypothesis or claim about a population parameter (such as a mean or proportion) with the data from a sample, in order to determine if the hypothesis is likely to be true.\n",
    "\n",
    "Hypothesis testing is used to test the validity of a theory or claim.\n",
    "\n",
    "      For example, in medical research, hypothesis testing can be used to determine if a new drug is effective in treating a disease by comparing its effects to a placebo. In business, hypothesis testing can be used to evaluate whether a new marketing strategy is effective in increasing sales.\n",
    "\n",
    "The importance of hypothesis testing lies in its ability to provide evidence for or against a theory or claim, and to help researchers make informed decisions based on data. It allows researchers to determine if an observed difference between groups or variables is statistically significant or simply due to chance, and to quantify the level of uncertainty in their findings. This can help researchers to draw conclusions that are based on evidence and minimize the risk of drawing incorrect or unsupported conclusions."
   ]
  },
  {
   "cell_type": "markdown",
   "metadata": {},
   "source": [
    "Question No. 4:\n",
    "\n",
    "Create a hypothesis that states whether the average weight of male college students is greater than the average weight of female college students.\n",
    "\n",
    "Answer:\n",
    "\n",
    "The null hypothesis would be:\n",
    "\n",
    "   H0: The average weight of male college students is not greater than the average weight of female college students.\n",
    "\n",
    "The alternative hypothesis would be:\n",
    "  \n",
    "   H1: The average weight of male college students is greater than the average weight of female college students."
   ]
  },
  {
   "cell_type": "markdown",
   "metadata": {},
   "source": [
    "Question No. 5:\n",
    "\n",
    "Write a Python script to conduct a hypothesis test on the difference between two population means, given a sample from each population.\n",
    "\n",
    "Answer:"
   ]
  },
  {
   "cell_type": "code",
   "execution_count": 3,
   "metadata": {},
   "outputs": [
    {
     "name": "stdout",
     "output_type": "stream",
     "text": [
      "t-statistic:  -7.281667279375416\n",
      "p-value:  7.606605403451066e-12\n",
      "Reject null hypothesis\n"
     ]
    }
   ],
   "source": [
    "import numpy as np\n",
    "from scipy.stats import ttest_ind\n",
    "\n",
    "# create two random samples\n",
    "sample1 = np.random.normal(10, 2, 100)\n",
    "sample2 = np.random.normal(12, 2, 100)\n",
    "\n",
    "# conduct t-test\n",
    "t_stat, p_val = ttest_ind(sample1, sample2)\n",
    "\n",
    "# print results\n",
    "print(\"t-statistic: \", t_stat)\n",
    "print(\"p-value: \", p_val)\n",
    "\n",
    "# check if p-value is significant at 5% level\n",
    "if p_val < 0.05:\n",
    "    print(\"Reject null hypothesis\")\n",
    "else:\n",
    "    print(\"Fail to reject null hypothesis\")"
   ]
  },
  {
   "cell_type": "markdown",
   "metadata": {},
   "source": [
    "Question No. 6:\n",
    "\n",
    "What is a null and alternative hypothesis? Give some examples.\n",
    "\n",
    "Answer:\n",
    "\n",
    "The null hypothesis (H0) states that there is no significant difference between two populations or variables. It is often the default or conventional position and is tested against the alternative hypothesis. In other words, it is the claim that researchers aim to reject or fail to reject based on the evidence from the data.\n",
    "\n",
    "The alternative hypothesis (H1) is the complement of the null hypothesis and states that there is a significant difference between two populations or variables. It represents the claim that researchers seek to support or prove based on the evidence from the data.\n",
    "\n",
    "Examples:\n",
    "\n",
    "Null hypothesis: The average IQ scores of two groups of students are equal.\n",
    "Alternative hypothesis: The average IQ score of one group of students is significantly different from the other group.\n",
    "\n",
    "Null hypothesis: The new drug has no effect on curing a disease.\n",
    "Alternative hypothesis: The new drug is significantly more effective in curing the disease than the current drug."
   ]
  },
  {
   "cell_type": "markdown",
   "metadata": {},
   "source": [
    "Question No. 7:\n",
    "\n",
    "Write down the steps involved in hypothesis testing.\n",
    "\n",
    "Answer:\n",
    "\n",
    "The general steps involved in hypothesis testing are:\n",
    "\n",
    "State the null and alternative hypotheses: Identify the research question and define the null and alternative hypotheses that represent the possible outcomes.\n",
    "\n",
    "Determine the test statistic: Choose an appropriate statistical test (e.g., t-test, ANOVA, chi-square) based on the research question and data type, and calculate the test statistic using the sample data.\n",
    "\n",
    "Set the significance level: Determine the level of significance (alpha) to use for the test. This is the probability of rejecting the null hypothesis when it is true and is typically set at 0.05.\n",
    "\n",
    "Calculate the p-value: Calculate the probability of observing the test statistic or a more extreme value under the null hypothesis.\n",
    "\n",
    "Make a decision: Compare the p-value to the significance level and make a decision whether to reject or fail to reject the null hypothesis. If the p-value is less than or equal to the significance level, reject the null hypothesis; otherwise, fail to reject the null hypothesis."
   ]
  },
  {
   "cell_type": "markdown",
   "metadata": {},
   "source": [
    "\n",
    "Question No. 8:\n",
    "\n",
    "Define p-value and explain its significance in hypothesis testing.\n",
    "\n",
    "Answer:\n",
    "\n",
    "The p-value in hypothesis testing is the probability of observing a test statistic or a more extreme value, given that the null hypothesis is true. In other words, it is the probability of obtaining the observed data or more extreme data if the null hypothesis is true.\n",
    "The p-value provides a measure of the strength of evidence against the null hypothesis. A small p-value indicates strong evidence against the null hypothesis, while a large p-value indicates weak evidence against the null hypothesis.\n",
    "\n",
    "The p-value is a key component of hypothesis testing because it helps researchers make decisions about the null hypothesis. If the p-value is small (e.g., less than or equal to the significance level), it suggests that the observed data is unlikely to have occurred by chance under the null hypothesis, and the null hypothesis is rejected. If the p-value is large (e.g., greater than the significance level), it suggests that the observed data is consistent with the null hypothesis, and the null hypothesis is not rejected."
   ]
  },
  {
   "cell_type": "markdown",
   "metadata": {},
   "source": [
    "Question No. 9:\n",
    "\n",
    "Generate a Student's t-distribution plot using Python's matplotlib library, with the degrees of freedom parameter set to 10.\n",
    "\n",
    "Answer:"
   ]
  },
  {
   "cell_type": "code",
   "execution_count": 4,
   "metadata": {},
   "outputs": [
    {
     "data": {
      "text/plain": [
       "(array([3.43719624e-04, 6.87439248e-04, 2.06231774e-03, 5.67137380e-03,\n",
       "        1.08271682e-02, 3.81528783e-02, 8.45550275e-02, 1.75125149e-01,\n",
       "        3.00926531e-01, 3.83762960e-01, 3.29627120e-01, 2.10700130e-01,\n",
       "        1.07240523e-01, 4.19337941e-02, 1.87327195e-02, 5.49951399e-03,\n",
       "        1.71859812e-03, 5.15579436e-04, 3.43719624e-04, 1.71859812e-04]),\n",
       " array([-5.60113222, -5.01926262, -4.43739303, -3.85552343, -3.27365383,\n",
       "        -2.69178423, -2.10991463, -1.52804503, -0.94617543, -0.36430583,\n",
       "         0.21756377,  0.79943337,  1.38130297,  1.96317257,  2.54504217,\n",
       "         3.12691177,  3.70878137,  4.29065096,  4.87252056,  5.45439016,\n",
       "         6.03625976]),\n",
       " <BarContainer object of 20 artists>)"
      ]
     },
     "execution_count": 4,
     "metadata": {},
     "output_type": "execute_result"
    },
    {
     "data": {
      "image/png": "[encoded data removed]",
      "text/plain": [
       "<Figure size 640x480 with 1 Axes>"
      ]
     },
     "metadata": {},
     "output_type": "display_data"
    }
   ],
   "source": [
    "from scipy.stats import t\n",
    "import matplotlib.pyplot as plt\n",
    "\n",
    "#generate t distribution with sample size 10000\n",
    "x = t.rvs(df=10, size=10000)\n",
    "\n",
    "plt.hist(x, density=True, edgecolor='black', bins=20)"
   ]
  },
  {
   "cell_type": "markdown",
   "metadata": {},
   "source": [
    "\n",
    "Question No. 10:\n",
    "\n",
    "Write a Python program to calculate the two-sample t-test for independent samples, given two random samples of equal size and a null hypothesis that the population means are equal.\n",
    "\n",
    "Answer:"
   ]
  },
  {
   "cell_type": "code",
   "execution_count": null,
   "metadata": {},
   "outputs": [],
   "source": [
    "import numpy as np\n",
    "from scipy.stats import ttest_ind\n",
    "\n",
    "sample1 = np.random.normal(10, 2, 100)\n",
    "sample2 = np.random.normal(12, 2, 100)\n",
    "\n",
    "#calculate the t-test statistic and p-value\n",
    "t_statistic, p_value = ttest_ind(sample1, sample2)\n",
    "\n",
    "print(\"t-test statistic:\", t_statistic)\n",
    "print(\"p-value:\", p_value)\n",
    "\n",
    "#compare the p-value to the significance level\n",
    "alpha = 0.05\n",
    "if p_value < alpha:\n",
    "    print(\"Reject the null hypothesis\")\n",
    "else:\n",
    "    print(\"Fail to reject the null hypothesis\")"
   ]
  }
 ],
 "metadata": {
  "kernelspec": {
   "display_name": "Python 3",
   "language": "python",
   "name": "python3"
  },
  "language_info": {
   "codemirror_mode": {
    "name": "ipython",
    "version": 3
   },
   "file_extension": ".py",
   "mimetype": "text/x-python",
   "name": "python",
   "nbconvert_exporter": "python",
   "pygments_lexer": "ipython3",
   "version": "3.13.2"
  }
 },
 "nbformat": 4,
 "nbformat_minor": 2
}
