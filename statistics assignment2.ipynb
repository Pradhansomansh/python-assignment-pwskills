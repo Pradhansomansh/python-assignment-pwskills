{
 "cells": [
  {
   "cell_type": "markdown",
   "metadata": {},
   "source": [
    "Q.1> What are the three measures of central tendency?\n",
    "\n",
    "The three central tendency measures are:\n",
    "\n",
    "1. Mean: The mean is the average of a set of values. It is calculated by summing all the values in a dataset and then dividing the sum by the total number of values.\n",
    "\n",
    "2. Median: The median is the middle value in a dataset when the values are arranged in ascending or descending order. If the dataset has an even number of values, the median is calculated by taking the average of the two middle values.\n",
    "\n",
    "3. Mode: The mode is the value that appears most frequently in a dataset. If there are multiple values that appear with the same frequency, then the dataset is said to have multiple modes."
   ]
  },
  {
   "cell_type": "markdown",
   "metadata": {},
   "source": [
    "Q.2> What is the difference between the mean, median, and mode ? How they used to measure the central tendency of a dataset?\n",
    "\n",
    "The mean, median, and mode are all measures of central tendency, but they differ in how they represent the center of a dataset.\n",
    "\n",
    "The mean is the arithmetic average of a set of values. It is calculated by adding up all the values in the dataset and dividing by the total number of values. The mean is sensitive to extreme values, which means that a few unusually high or low values can significantly impact the mean.\n",
    "\n",
    "The median is the middle value in a dataset when the values are arranged in order from smallest to largest. If there is an even number of values, the median is the average of the two middle values. The median is a good measure of central tendency when the dataset contains extreme values or outliers, as it is not affected by these values.\n",
    "\n",
    "The mode is the value that appears most frequently in a dataset. A dataset can have more than one mode if there are multiple values that appear with the same frequency. The mode is a good measure of central tendency for categorical data or discrete variables.\n",
    "\n",
    "To measure the central tendency of a dataset, you can use any of these measures depending on the nature of the data and the research question you are trying to answer. The mean is commonly used for continuous variables that are normally distributed, while the median is often used for skewed data or when outliers are present. The mode is useful for categorical data or when you want to know the most common value in a dataset."
   ]
  },
  {
   "cell_type": "markdown",
   "metadata": {},
   "source": [
    "Q.3> Q3. Measure the three measures of central tendency for the given height data:\n",
    "\n",
    "[178,177,176,177,178.2,178,175,179,180,175,178.9,176.2,177,172.5,178,176.5]"
   ]
  },
  {
   "cell_type": "code",
   "execution_count": 1,
   "metadata": {},
   "outputs": [
    {
     "name": "stdout",
     "output_type": "stream",
     "text": [
      "Mean height is: 177.01875\n",
      "Median height is: 177.0\n",
      "Mode height is: 178\n"
     ]
    }
   ],
   "source": [
    "# importing statistics module\n",
    "import statistics \n",
    "\n",
    "# creating the height data list\n",
    "height_data = [178,177,176,177,178.2,178,175,179,180,175,178.9,176.2,177,172.5,178,176.5]\n",
    "\n",
    "# calculating the mean\n",
    "mean_height = statistics.mean(height_data)\n",
    "print(\"Mean height is:\", mean_height)\n",
    "\n",
    "# calculating the median\n",
    "median_height = statistics.median(height_data)\n",
    "print(\"Median height is:\", median_height)\n",
    "\n",
    "# calculating the mode\n",
    "mode_height = statistics.mode(height_data)\n",
    "print(\"Mode height is:\", mode_height)"
   ]
  },
  {
   "cell_type": "markdown",
   "metadata": {},
   "source": [
    "Q.4> Find the standard deviation for the given data:\n",
    "\n",
    "[178,177,176,177,178.2,178,175,179,180,175,178.9,176.2,177,172.5,178,176.5]"
   ]
  },
  {
   "cell_type": "code",
   "execution_count": 2,
   "metadata": {},
   "outputs": [
    {
     "name": "stdout",
     "output_type": "stream",
     "text": [
      "Standard deviation of height data is: 1.8472389305844188\n"
     ]
    }
   ],
   "source": [
    "# importing statistics module\n",
    "import statistics\n",
    "\n",
    "# creating the height data list\n",
    "height_data = [178,177,176,177,178.2,178,175,179,180,175,178.9,176.2,177,172.5,178,176.5]\n",
    "\n",
    "# calculating the standard deviation\n",
    "std_height = statistics.stdev(height_data)\n",
    "print(\"Standard deviation of height data is:\", std_height)"
   ]
  },
  {
   "cell_type": "markdown",
   "metadata": {},
   "source": [
    "Q.5> How are measures of dispersion such as range, variance, and standard deviation used to describe the spread of a dataset? Provide an example.\n",
    "\n",
    "ANS>\n",
    "\n",
    "Measures of dispersion such as range, variance, and standard deviation are used to describe the spread or variability of a dataset. They give an idea of how spread out the data points are from the central tendency.\n",
    "\n",
    "Range: The range is the difference between the maximum and minimum values in a dataset. It gives a rough estimate of the spread of the data. For example, if we have a dataset of test scores with a range of 40, we can say that the scores are spread out over a range of 40 points.\n",
    "\n",
    "Variance: The variance is the average of the squared differences from the mean. It measures how much the data points deviate from the mean. A higher variance indicates a greater spread of the data. For example, if we have a dataset of the heights of students in a class with a variance of 4, we can say that the heights of the students are spread out over a range of 2 cm on either side of the mean.\n",
    "\n",
    "Standard deviation: The standard deviation is the square root of the variance. It measures the spread of the data in the same units as the original data. A higher standard deviation indicates a greater spread of the data. For example, if we have a dataset of the weights of apples in a basket with a standard deviation of 2 kg, we can say that the weights of the apples are spread out over a range of 4 kg on either side of the mean.\n",
    "\n",
    "As an example, consider the following dataset of test scores:\n",
    "\n",
    "[85, 90, 75, 80, 95, 70, 85, 90, 80, 75]\n",
    "\n",
    "The mean score is 82, and we can calculate the measures of dispersion as follows:\n",
    "\n",
    "Range: The range is the difference between the maximum and minimum values, which is 25 (95 - 70). Variance: The variance is the average of the squared differences from the mean, which is 62.5. Standard deviation: The standard deviation is the square root of the variance, which is approximately 7.91."
   ]
  },
  {
   "cell_type": "markdown",
   "metadata": {},
   "source": [
    "Q.6> What is a Venn diagram?\n",
    "\n",
    "A Venn diagram is a visual representation of the relationships between sets of data. It is a diagram that shows all possible logical relations between a finite collection of sets, often represented as circles that overlap or are disjoint. Venn diagrams are commonly used to illustrate simple set relationships in logic, statistics, probability, and computer science.\n",
    "\n",
    "In a Venn diagram, each circle represents a set, and the region where the circles overlap represents the intersection of those sets. The areas outside the circles represent the complement of those sets."
   ]
  },
  {
   "cell_type": "markdown",
   "metadata": {},
   "source": [
    "Q7. For the two given sets A = (2,3,4,5,6,7) & B = (0,2,6,8,10).Find:\n",
    "\n",
    "(i) A ⋂ B (ii) A ⋃ B"
   ]
  },
  {
   "cell_type": "code",
   "execution_count": null,
   "metadata": {},
   "outputs": [],
   "source": [
    "# define the sets A and B\n",
    "A = {2, 3, 4, 5, 6, 7}\n",
    "B = {0, 2, 6, 8, 10}\n",
    "\n",
    "# find the intersection of A and B\n",
    "intersection = A.intersection(B)\n",
    "print(\"Intersection of A and B:\", intersection)\n",
    "\n",
    "# find the union of A and B\n",
    "union = A.union(B)\n",
    "print(\"Union of A and B:\", union)"
   ]
  }
 ],
 "metadata": {
  "kernelspec": {
   "display_name": "Python 3",
   "language": "python",
   "name": "python3"
  },
  "language_info": {
   "codemirror_mode": {
    "name": "ipython",
    "version": 3
   },
   "file_extension": ".py",
   "mimetype": "text/x-python",
   "name": "python",
   "nbconvert_exporter": "python",
   "pygments_lexer": "ipython3",
   "version": "3.13.2"
  }
 },
 "nbformat": 4,
 "nbformat_minor": 2
}
