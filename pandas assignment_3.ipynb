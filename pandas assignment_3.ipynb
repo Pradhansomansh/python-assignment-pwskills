{
 "cells": [
  {
   "cell_type": "markdown",
   "metadata": {},
   "source": [
    "Question No.1\n",
    "\n",
    "Write a code to print the data present in the second row of gthe dataframe,df\n",
    "\n",
    "ANSWER"
   ]
  },
  {
   "cell_type": "code",
   "execution_count": 1,
   "metadata": {},
   "outputs": [
    {
     "data": {
      "text/html": [
       "<div>\n",
       "<style scoped>\n",
       "    .dataframe tbody tr th:only-of-type {\n",
       "        vertical-align: middle;\n",
       "    }\n",
       "\n",
       "    .dataframe tbody tr th {\n",
       "        vertical-align: top;\n",
       "    }\n",
       "\n",
       "    .dataframe thead th {\n",
       "        text-align: right;\n",
       "    }\n",
       "</style>\n",
       "<table border=\"1\" class=\"dataframe\">\n",
       "  <thead>\n",
       "    <tr style=\"text-align: right;\">\n",
       "      <th></th>\n",
       "      <th>course_name</th>\n",
       "      <th>duration</th>\n",
       "    </tr>\n",
       "  </thead>\n",
       "  <tbody>\n",
       "    <tr>\n",
       "      <th>0</th>\n",
       "      <td>Data Science</td>\n",
       "      <td>2</td>\n",
       "    </tr>\n",
       "    <tr>\n",
       "      <th>1</th>\n",
       "      <td>Machine Learning</td>\n",
       "      <td>3</td>\n",
       "    </tr>\n",
       "    <tr>\n",
       "      <th>2</th>\n",
       "      <td>Big Data</td>\n",
       "      <td>6</td>\n",
       "    </tr>\n",
       "    <tr>\n",
       "      <th>3</th>\n",
       "      <td>Data Engineer</td>\n",
       "      <td>4</td>\n",
       "    </tr>\n",
       "  </tbody>\n",
       "</table>\n",
       "</div>"
      ],
      "text/plain": [
       "        course_name  duration\n",
       "0      Data Science         2\n",
       "1  Machine Learning         3\n",
       "2          Big Data         6\n",
       "3     Data Engineer         4"
      ]
     },
     "execution_count": 1,
     "metadata": {},
     "output_type": "execute_result"
    }
   ],
   "source": [
    "import pandas as pd\n",
    "course_name = ['Data Science', 'Machine Learning', 'Big Data', 'Data Engineer']\n",
    "duration = [2,3,6,4]\n",
    "df = pd.DataFrame(data = {'course_name' : course_name, 'duration' : duration})\n",
    "df"
   ]
  },
  {
   "cell_type": "code",
   "execution_count": 4,
   "metadata": {},
   "outputs": [
    {
     "data": {
      "text/plain": [
       "course_name    Machine Learning\n",
       "duration                      3\n",
       "Name: 1, dtype: object"
      ]
     },
     "execution_count": 4,
     "metadata": {},
     "output_type": "execute_result"
    }
   ],
   "source": [
    "df.loc[1]"
   ]
  },
  {
   "cell_type": "markdown",
   "metadata": {},
   "source": [
    "Question No.2:\n",
    "\n",
    "What is the difference between the functions loc and iloc in pandas.DataFrame?\n",
    "\n",
    "ANSWER:\n",
    "\n",
    "loc is a label-based indexing method that is used to access rows and columns by labels or boolean arrays. The syntax of the loc method is df.loc[row_labels, column_labels]. Here, row_labels and column_labels refer to the row and column labels, respectively. loc returns a DataFrame that matches the specified labels.\n",
    "\n",
    "iloc on the other hand, is an integer-based indexing method that is used to access rows and columns by integer position. The syntax of the iloc method is df.iloc[row_positions, column_positions]. Here, row_positions and column_positions refer to the integer positions of the rows and columns, respectively. iloc returns a DataFrame that matches the specified integer positions."
   ]
  },
  {
   "cell_type": "markdown",
   "metadata": {},
   "source": [
    "Question No. 3:\n",
    "Reindex the given dataframe using a variable, reindex = [3,0,1,2] and store it in the variable, new_df then find the output for both new_df.loc[2] and new_df.iloc[2].\n",
    "\n",
    "Answer:"
   ]
  },
  {
   "cell_type": "code",
   "execution_count": 5,
   "metadata": {},
   "outputs": [
    {
     "data": {
      "text/html": [
       "<div>\n",
       "<style scoped>\n",
       "    .dataframe tbody tr th:only-of-type {\n",
       "        vertical-align: middle;\n",
       "    }\n",
       "\n",
       "    .dataframe tbody tr th {\n",
       "        vertical-align: top;\n",
       "    }\n",
       "\n",
       "    .dataframe thead th {\n",
       "        text-align: right;\n",
       "    }\n",
       "</style>\n",
       "<table border=\"1\" class=\"dataframe\">\n",
       "  <thead>\n",
       "    <tr style=\"text-align: right;\">\n",
       "      <th></th>\n",
       "      <th>course_name</th>\n",
       "      <th>duration</th>\n",
       "    </tr>\n",
       "  </thead>\n",
       "  <tbody>\n",
       "    <tr>\n",
       "      <th>3</th>\n",
       "      <td>Data Engineer</td>\n",
       "      <td>4</td>\n",
       "    </tr>\n",
       "    <tr>\n",
       "      <th>0</th>\n",
       "      <td>Data Science</td>\n",
       "      <td>2</td>\n",
       "    </tr>\n",
       "    <tr>\n",
       "      <th>1</th>\n",
       "      <td>Machine Learning</td>\n",
       "      <td>3</td>\n",
       "    </tr>\n",
       "    <tr>\n",
       "      <th>2</th>\n",
       "      <td>Big Data</td>\n",
       "      <td>6</td>\n",
       "    </tr>\n",
       "  </tbody>\n",
       "</table>\n",
       "</div>"
      ],
      "text/plain": [
       "        course_name  duration\n",
       "3     Data Engineer         4\n",
       "0      Data Science         2\n",
       "1  Machine Learning         3\n",
       "2          Big Data         6"
      ]
     },
     "execution_count": 5,
     "metadata": {},
     "output_type": "execute_result"
    }
   ],
   "source": [
    "reindex = [3,0,1,2]\n",
    "\n",
    "new_df = df.reindex(reindex)\n",
    "new_df"
   ]
  },
  {
   "cell_type": "code",
   "execution_count": 6,
   "metadata": {},
   "outputs": [
    {
     "data": {
      "text/plain": [
       "course_name    Big Data\n",
       "duration              6\n",
       "Name: 2, dtype: object"
      ]
     },
     "execution_count": 6,
     "metadata": {},
     "output_type": "execute_result"
    }
   ],
   "source": [
    "new_df.loc[2]"
   ]
  },
  {
   "cell_type": "code",
   "execution_count": 7,
   "metadata": {},
   "outputs": [
    {
     "data": {
      "text/plain": [
       "course_name    Machine Learning\n",
       "duration                      3\n",
       "Name: 1, dtype: object"
      ]
     },
     "execution_count": 7,
     "metadata": {},
     "output_type": "execute_result"
    }
   ],
   "source": [
    "new_df.iloc[2]"
   ]
  },
  {
   "cell_type": "markdown",
   "metadata": {},
   "source": [
    "Yes, there is a difference in the outputs of new_df.loc[2] and new_df.iloc[2].\n",
    "\n",
    "new_df.loc: Since the index of new_df is now [3, 0, 1, 2], new_df.loc[] will print the row at the label 2 in the index.\n",
    "\n",
    "new_df.iloc: new_df.iloc[2] returns the row that has the integer position 2 in the index."
   ]
  },
  {
   "cell_type": "markdown",
   "metadata": {},
   "source": [
    "Question No. 4:\n",
    "\n",
    "Write a code to find the following statistical measurements for the above dataframe df1:\n",
    "(i) mean of each and every column present in the dataframe.\n",
    "(ii) standard deviation of column, ‘column_2’\n",
    "\n",
    "Answer:"
   ]
  },
  {
   "cell_type": "code",
   "execution_count": 8,
   "metadata": {},
   "outputs": [
    {
     "data": {
      "text/html": [
       "<div>\n",
       "<style scoped>\n",
       "    .dataframe tbody tr th:only-of-type {\n",
       "        vertical-align: middle;\n",
       "    }\n",
       "\n",
       "    .dataframe tbody tr th {\n",
       "        vertical-align: top;\n",
       "    }\n",
       "\n",
       "    .dataframe thead th {\n",
       "        text-align: right;\n",
       "    }\n",
       "</style>\n",
       "<table border=\"1\" class=\"dataframe\">\n",
       "  <thead>\n",
       "    <tr style=\"text-align: right;\">\n",
       "      <th></th>\n",
       "      <th>column_1</th>\n",
       "      <th>column_2</th>\n",
       "      <th>column_3</th>\n",
       "      <th>column_4</th>\n",
       "      <th>column_5</th>\n",
       "      <th>column_6</th>\n",
       "    </tr>\n",
       "  </thead>\n",
       "  <tbody>\n",
       "    <tr>\n",
       "      <th>1</th>\n",
       "      <td>0.841319</td>\n",
       "      <td>0.201212</td>\n",
       "      <td>0.166813</td>\n",
       "      <td>0.890999</td>\n",
       "      <td>0.554136</td>\n",
       "      <td>0.642790</td>\n",
       "    </tr>\n",
       "    <tr>\n",
       "      <th>2</th>\n",
       "      <td>0.957783</td>\n",
       "      <td>0.673213</td>\n",
       "      <td>0.252130</td>\n",
       "      <td>0.374132</td>\n",
       "      <td>0.857476</td>\n",
       "      <td>0.321397</td>\n",
       "    </tr>\n",
       "    <tr>\n",
       "      <th>3</th>\n",
       "      <td>0.064714</td>\n",
       "      <td>0.019666</td>\n",
       "      <td>0.703010</td>\n",
       "      <td>0.725237</td>\n",
       "      <td>0.681675</td>\n",
       "      <td>0.849223</td>\n",
       "    </tr>\n",
       "    <tr>\n",
       "      <th>4</th>\n",
       "      <td>0.038895</td>\n",
       "      <td>0.789928</td>\n",
       "      <td>0.993581</td>\n",
       "      <td>0.237671</td>\n",
       "      <td>0.288568</td>\n",
       "      <td>0.620877</td>\n",
       "    </tr>\n",
       "    <tr>\n",
       "      <th>5</th>\n",
       "      <td>0.527044</td>\n",
       "      <td>0.039598</td>\n",
       "      <td>0.314157</td>\n",
       "      <td>0.244573</td>\n",
       "      <td>0.958120</td>\n",
       "      <td>0.536139</td>\n",
       "    </tr>\n",
       "    <tr>\n",
       "      <th>6</th>\n",
       "      <td>0.261716</td>\n",
       "      <td>0.318637</td>\n",
       "      <td>0.182835</td>\n",
       "      <td>0.642487</td>\n",
       "      <td>0.510306</td>\n",
       "      <td>0.908652</td>\n",
       "    </tr>\n",
       "  </tbody>\n",
       "</table>\n",
       "</div>"
      ],
      "text/plain": [
       "   column_1  column_2  column_3  column_4  column_5  column_6\n",
       "1  0.841319  0.201212  0.166813  0.890999  0.554136  0.642790\n",
       "2  0.957783  0.673213  0.252130  0.374132  0.857476  0.321397\n",
       "3  0.064714  0.019666  0.703010  0.725237  0.681675  0.849223\n",
       "4  0.038895  0.789928  0.993581  0.237671  0.288568  0.620877\n",
       "5  0.527044  0.039598  0.314157  0.244573  0.958120  0.536139\n",
       "6  0.261716  0.318637  0.182835  0.642487  0.510306  0.908652"
      ]
     },
     "execution_count": 8,
     "metadata": {},
     "output_type": "execute_result"
    }
   ],
   "source": [
    "import numpy as np\n",
    "columns = ['column_1', 'column_2', 'column_3', 'column_4', 'column_5', 'column_6']\n",
    "indices = [1,2,3,4,5,6]\n",
    "#Creating a dataframe:\n",
    "df1 = pd.DataFrame(np.random.rand(6,6), columns = columns, index = indices)\n",
    "df1"
   ]
  },
  {
   "cell_type": "code",
   "execution_count": 9,
   "metadata": {},
   "outputs": [
    {
     "name": "stdout",
     "output_type": "stream",
     "text": [
      "Mean of each column: [np.float64(0.44857861211787897), np.float64(0.3403757988745135), np.float64(0.4354209836157419), np.float64(0.519183434904256), np.float64(0.6417135526186658), np.float64(0.6465131950219792)]\n",
      "Standard Deviation of column_2: 0.3243574820907255\n"
     ]
    }
   ],
   "source": [
    "means=[]\n",
    "\n",
    "for each_col in list(df1.columns):\n",
    "    means.append(df1[each_col].mean())\n",
    "\n",
    "print(f\"Mean of each column: {means}\")\n",
    "print(f\"Standard Deviation of column_2: {df1['column_2'].std()}\")"
   ]
  },
  {
   "cell_type": "markdown",
   "metadata": {},
   "source": [
    "Question No. 6:\n",
    "What do you understand about the windows function in pandas and list the types of windows functions?\n",
    "\n",
    "Answer:\n",
    "In pandas, a window function is a way to apply a calculation to a specific subset of data, called a \"window,\" that moves through the dataset. This allows for calculations to be made on a rolling or expanding basis, depending on the type of window function used.\n",
    "\n",
    "The types of window functions available in pandas can be broadly classified into the following categories:\n",
    "\n",
    "Rolling functions: These functions compute a rolling statistic over a defined window size. Examples include rolling mean, rolling sum, rolling standard deviation, etc.\n",
    "\n",
    "Expanding functions: These functions compute a cumulative statistic over the entire dataset up to the current point. Examples include expanding sum, expanding mean, etc.\n",
    "\n",
    "Exponentially weighted functions: These functions compute a rolling statistic with weights that decay exponentially as the distance from the current point increases. Examples include exponentially weighted mean, exponentially weighted standard deviation, etc.\n",
    "\n",
    "Cumulative functions: These functions compute a cumulative statistic over the entire dataset up to the current point. Examples include cumsum, cummax, cummin, etc.\n",
    "\n",
    "Aggregating functions: These functions perform a groupby-style operation on a rolling or expanding window. Examples include groupby.mean(),groupby.sum(),etc."
   ]
  },
  {
   "cell_type": "code",
   "execution_count": 10,
   "metadata": {},
   "outputs": [
    {
     "data": {
      "text/html": [
       "<div>\n",
       "<style scoped>\n",
       "    .dataframe tbody tr th:only-of-type {\n",
       "        vertical-align: middle;\n",
       "    }\n",
       "\n",
       "    .dataframe tbody tr th {\n",
       "        vertical-align: top;\n",
       "    }\n",
       "\n",
       "    .dataframe thead th {\n",
       "        text-align: right;\n",
       "    }\n",
       "</style>\n",
       "<table border=\"1\" class=\"dataframe\">\n",
       "  <thead>\n",
       "    <tr style=\"text-align: right;\">\n",
       "      <th></th>\n",
       "      <th>current_date</th>\n",
       "    </tr>\n",
       "  </thead>\n",
       "  <tbody>\n",
       "    <tr>\n",
       "      <th>0</th>\n",
       "      <td>2023-02-26</td>\n",
       "    </tr>\n",
       "  </tbody>\n",
       "</table>\n",
       "</div>"
      ],
      "text/plain": [
       "  current_date\n",
       "0   2023-02-26"
      ]
     },
     "execution_count": 10,
     "metadata": {},
     "output_type": "execute_result"
    }
   ],
   "source": [
    "data_dict = {\n",
    "    'current_date':['2023-02-26']\n",
    "}\n",
    "\n",
    "df = pd.DataFrame(data_dict)\n",
    "df"
   ]
  },
  {
   "cell_type": "code",
   "execution_count": 13,
   "metadata": {},
   "outputs": [],
   "source": [
    "df['current_date']=pd.to_datetime(df['current_date'])"
   ]
  },
  {
   "cell_type": "code",
   "execution_count": 14,
   "metadata": {},
   "outputs": [
    {
     "data": {
      "text/plain": [
       "0    2\n",
       "Name: current_date, dtype: int32"
      ]
     },
     "execution_count": 14,
     "metadata": {},
     "output_type": "execute_result"
    }
   ],
   "source": [
    "df['current_date'].dt.month"
   ]
  },
  {
   "cell_type": "code",
   "execution_count": 15,
   "metadata": {},
   "outputs": [
    {
     "data": {
      "text/plain": [
       "0    2023\n",
       "Name: current_date, dtype: int32"
      ]
     },
     "execution_count": 15,
     "metadata": {},
     "output_type": "execute_result"
    }
   ],
   "source": [
    "df['current_date'].dt.year"
   ]
  },
  {
   "cell_type": "markdown",
   "metadata": {},
   "source": [
    "Question No. 8:\n",
    "\n",
    "Write a Python program that takes in two dates as input (in the format YYYY-MM-DD) and calculates the difference between them in days, hours, and minutes using Pandas time delta. The program should prompt the user to enter the dates and display the result."
   ]
  },
  {
   "cell_type": "code",
   "execution_count": null,
   "metadata": {},
   "outputs": [],
   "source": [
    "start_date = input(\"Enter first date: \")\n",
    "end_date = input(\"Enter second date: \")\n",
    "\n",
    "days_in_between = pd.date_range(start = start_date, end = end_date)\n",
    "difference = len(days_in_between)\n",
    "\n",
    "print(f'The difference between the first date and second date is {difference} days')\n",
    "\n",
    "#First date entered: 2022-01-01\n",
    "#Second date entered: 2022-02-01"
   ]
  },
  {
   "cell_type": "markdown",
   "metadata": {},
   "source": [
    "Question No. 9:\n",
    "\n",
    "Write a Python program that reads a CSV file containing categorical data and converts a specified column to a categorical data type. The program should prompt the user to enter the file path, column name, and category order, and then display the sorted data."
   ]
  },
  {
   "cell_type": "code",
   "execution_count": 19,
   "metadata": {},
   "outputs": [],
   "source": [
    "df= pd.read_csv(\"https://raw.githubusercontent.com/datasciencedojo/datasets/master/titanic.csv\")"
   ]
  },
  {
   "cell_type": "code",
   "execution_count": null,
   "metadata": {},
   "outputs": [],
   "source": [
    "filepath = input('Enter the filepath: ')\n",
    "column = input('Enter the column name: ')\n",
    "order = input('Enter category order: ')\n",
    "\n",
    "df = pd.read_csv(filepath)\n",
    "\n",
    "df[column].astype('category')\n",
    "\n",
    "if order=='ascending':\n",
    "    df=df.sort_values(by = column, ascending= True)\n",
    "elif order=='descending':\n",
    "    df=df.sort_values(by = column, ascending= False)\n",
    "\n",
    "df\n",
    "\n",
    "#entered filepath: https://raw.githubusercontent.com/datasciencedojo/datasets/master/titanic.csv\n",
    "#entered column: Pclass\n",
    "#entered order: ascending"
   ]
  },
  {
   "cell_type": "markdown",
   "metadata": {},
   "source": [
    "Question No. 10:\n",
    "\n",
    "Write a Python program that reads a CSV file containing sales data for different products and visualizes the data using a stacked bar chart to show the sales of each product category over time. The program should prompt the user to enter the file path and display the chart."
   ]
  },
  {
   "cell_type": "code",
   "execution_count": null,
   "metadata": {},
   "outputs": [],
   "source": [
    "filepath = input('Enter filepath: ')\n",
    "\n",
    "df = pd.read_csv(filepath)\n",
    "df['Date'] = pd.to_datetime(df['Date'])\n",
    "grouped = df.groupby(['Product', 'Date']).sum()\n",
    "pivot = grouped.unstack(level=0)\n",
    "pivot.plot(kind='bar', stacked=True)\n",
    "\n",
    "#entered filepath: Product_sales.csv"
   ]
  }
 ],
 "metadata": {
  "kernelspec": {
   "display_name": "Python 3",
   "language": "python",
   "name": "python3"
  },
  "language_info": {
   "codemirror_mode": {
    "name": "ipython",
    "version": 3
   },
   "file_extension": ".py",
   "mimetype": "text/x-python",
   "name": "python",
   "nbconvert_exporter": "python",
   "pygments_lexer": "ipython3",
   "version": "3.13.2"
  }
 },
 "nbformat": 4,
 "nbformat_minor": 2
}
